{
  "nbformat": 4,
  "nbformat_minor": 0,
  "metadata": {
    "colab": {
      "private_outputs": true,
      "provenance": [],
      "collapsed_sections": [
        "vncDsAP0Gaoa",
        "FJNUwmbgGyua",
        "w6K7xa23Elo4",
        "yQaldy8SH6Dl",
        "PH-0ReGfmX4f",
        "mDgbUHAGgjLW",
        "O_i_v8NEhb9l",
        "HhfV-JJviCcP",
        "Y3lxredqlCYt",
        "3RnN4peoiCZX",
        "x71ZqKXriCWQ",
        "7hBIi_osiCS2",
        "JlHwYmJAmNHm",
        "35m5QtbWiB9F",
        "PoPl-ycgm1ru",
        "H0kj-8xxnORC",
        "nA9Y7ga8ng1Z",
        "PBTbrJXOngz2",
        "u3PMJOP6ngxN",
        "dauF4eBmngu3",
        "bKJF3rekwFvQ",
        "MSa1f5Uengrz",
        "GF8Ens_Soomf",
        "0wOQAZs5pc--",
        "K5QZ13OEpz2H",
        "lQ7QKXXCp7Bj",
        "448CDAPjqfQr",
        "KSlN3yHqYklG",
        "t6dVpIINYklI",
        "ijmpgYnKYklI",
        "-JiQyfWJYklI",
        "EM7whBJCYoAo",
        "fge-S5ZAYoAp",
        "85gYPyotYoAp",
        "RoGjAbkUYoAp",
        "4Of9eVA-YrdM",
        "iky9q4vBYrdO",
        "F6T5p64dYrdO",
        "y-Ehk30pYrdP",
        "bamQiAODYuh1",
        "QHF8YVU7Yuh3",
        "GwzvFGzlYuh3",
        "qYpmQ266Yuh3",
        "OH-pJp9IphqM",
        "bbFf2-_FphqN",
        "_ouA3fa0phqN",
        "Seke61FWphqN",
        "PIIx-8_IphqN",
        "t27r6nlMphqO",
        "r2jJGEOYphqO",
        "b0JNsNcRphqO",
        "BZR9WyysphqO",
        "jj7wYXLtphqO",
        "eZrbJ2SmphqO",
        "rFu4xreNphqO",
        "YJ55k-q6phqO",
        "gCFgpxoyphqP",
        "OVtJsKN_phqQ",
        "lssrdh5qphqQ",
        "U2RJ9gkRphqQ",
        "1M8mcRywphqQ",
        "tgIPom80phqQ",
        "JMzcOPDDphqR",
        "x-EpHcCOp1ci",
        "X_VqEhTip1ck",
        "8zGJKyg5p1ck",
        "PVzmfK_Ep1ck",
        "n3dbpmDWp1ck",
        "ylSl6qgtp1ck",
        "ZWILFDl5p1ck",
        "M7G43BXep1ck",
        "Ag9LCva-p1cl",
        "E6MkPsBcp1cl",
        "2cELzS2fp1cl",
        "3MPXvC8up1cl",
        "NC_X3p0fY2L0",
        "UV0SzAkaZNRQ",
        "YPEH6qLeZNRQ",
        "q29F0dvdveiT",
        "EXh0U9oCveiU",
        "22aHeOlLveiV",
        "JcMwzZxoAimU",
        "8G2x9gOozGDZ",
        "gCX9965dhzqZ",
        "gIfDvo9L0UH2"
      ]
    },
    "kernelspec": {
      "name": "python3",
      "display_name": "Python 3"
    },
    "language_info": {
      "name": "python"
    }
  },
  "cells": [
    {
      "cell_type": "markdown",
      "source": [
        "# **Project Name**    - **Netflix Movies and TV Shows Clustering**\n",
        "\n"
      ],
      "metadata": {
        "id": "vncDsAP0Gaoa"
      }
    },
    {
      "cell_type": "markdown",
      "source": [
        "##### **Project Type**    - EDA\n",
        "##### **Contribution**    - Individual\n",
        "##### **Team Member 1 - Vaishnavi Sahu**"
      ],
      "metadata": {
        "id": "beRrZCGUAJYm"
      }
    },
    {
      "cell_type": "markdown",
      "source": [
        "# **Project Summary -**"
      ],
      "metadata": {
        "id": "FJNUwmbgGyua"
      }
    },
    {
      "cell_type": "markdown",
      "source": [
        "This project focuses on performing a comprehensive Exploratory Data Analysis (EDA) of Netflix’s catalog of movies and TV shows to uncover meaningful insights about the platform’s content strategy, audience preferences, and business direction.\n",
        "The dataset used contains 7,787 records and 12 columns, providing information such as title, type (Movie or TV Show), director, cast, country, date added, release year, rating, duration, genres (listed_in), and description. The data was sourced from Flixable, a third-party Netflix search engine, and represents titles available on Netflix up to 2019.\n",
        "\n",
        "In addition to EDA, this project serves as the foundation for a machine learning (ML) task using K-Means clustering, where the goal is to group similar titles based on features such as genre, rating, duration, and release period.\n",
        "The insights derived from EDA help define relevant features, guide preprocessing steps, and ensure the data is well-prepared for clustering analysis.\n",
        "1. Data Cleaning and Preprocessing\n",
        "The initial step involved inspecting and cleaning the dataset. Columns such as director, cast, country, and rating contained missing values, which were replaced with \"Unknown\" to retain records without losing data.\n",
        "The date_added column was converted into a proper datetime format, and two new columns — year_added and month_added — were derived for trend analysis.\n",
        "The duration column was further split into duration_minutes (for movies) and seasons (for TV shows) to enable quantitative analysis across both types of content.\n",
        "The dataset was found to be free of duplicates, with minimal data inconsistencies, making it ready for both visual exploration and machine learning applications.\n",
        "\n",
        "2. Exploratory Data Analysis (EDA)\n",
        "The EDA process involved generating a series of visualizations to interpret Netflix’s content trends:\n",
        "\n",
        "Content Distribution: Movies dominate the catalog with around 70% share, while TV Shows make up the remaining 30%. However, the number of TV Shows has increased significantly after 2015, showing Netflix’s growing investment in serialized content.\n",
        "Yearly and Monthly Trends: Most titles were added to Netflix between 2016–2019, indicating aggressive content expansion during that period. Content additions are evenly spread across months, ensuring consistent user engagement throughout the year.\n",
        "Regional Contributions: The United States leads with the highest number of titles, followed by India, the United Kingdom, and Japan. A deeper comparison between India and the US showed that while the US dominates in volume, India has shown a steep growth trajectory since 2016 — reflecting Netflix’s focus on international markets and localization.\n",
        "Ratings: Ratings analysis revealed that most titles are rated TV-MA and TV-14, implying a heavy focus on adult and teenage audiences. Family-friendly content such as PG or TV-Y is relatively limited, representing an opportunity for expansion.\n",
        "Duration and Seasons: Most movies are between 80–120 minutes, and most TV shows have 1–2 seasons, aligning with Netflix’s binge-watch culture.\n",
        "Genres: Popular genres include International Movies, Dramas, Comedies, and Documentaries, showing a preference for storytelling variety and global appeal.\n",
        "Directors and Cast: A few directors, like Raúl Campos, Jan Suter, and Marcus Raboy, contribute multiple titles, often in stand-up or documentary categories, highlighting Netflix’s collaboration with consistent creators.3. Numerical Analysis\n",
        "A correlation heatmap and pair plot were used to explore relationships between numerical variables such as release year, year added, duration, and seasons.\n",
        "The results showed weak correlations, implying Netflix’s diverse catalog does not follow rigid patterns — content length, release year, and addition time are largely independent.\n",
        "This diversity demonstrates Netflix’s strategy of providing a balanced range of content to appeal to varied audiences, and also ensures feature independence — an ideal property for unsupervised learning models like K-Means clustering.\n",
        "\n",
        "4. Key Insights and Business Recommendations\n",
        "From the analysis, Netflix appears to be successfully pursuing a data-driven, globally diverse, and modernized content strategy. The findings suggest:\n",
        "\n",
        "Continue expanding international content, especially regional originals in fast-growing markets like India.\n",
        "Invest in family and educational content to attract more household subscribers.\n",
        "Balance between shorter mini-series and longer-running shows to engage both casual and loyal viewers.\n",
        "Maintain consistent monthly content releases to sustain engagement.\n",
        "Diversify collaborations with new directors and storytellers for fresh creative perspectives.\n",
        "5. Conclusion\n",
        "Overall, this project demonstrates that Netflix’s success lies in its content diversity, global expansion, and responsiveness to audience behavior.\n",
        "The EDA results provide strong evidence of Netflix’s shift from being a US-centric platform to a global entertainment powerhouse.\n",
        "\n",
        "The insights gained here also lay the groundwork for the machine learning phase, where K-Means clustering will be applied to group similar content based on patterns in duration, rating, genre, and release information.\n",
        "This clustering will help Netflix identify content similarities, design recommendation systems, and optimize catalog management for different audience segments.\n",
        "\n",
        "Netflix’s data-driven approach, supported by both EDA insights and ML techniques, ensures it remains a leader in the competitive streaming industry — continuously evolving to meet the needs of a global audience."
      ],
      "metadata": {
        "id": "F6v_1wHtG2nS"
      }
    },
    {
      "cell_type": "markdown",
      "source": [
        "# **GitHub Link -**"
      ],
      "metadata": {
        "id": "w6K7xa23Elo4"
      }
    },
    {
      "cell_type": "markdown",
      "source": [
        "Provide your GitHub Link here."
      ],
      "metadata": {
        "id": "h1o69JH3Eqqn"
      }
    },
    {
      "cell_type": "markdown",
      "source": [
        "# **Problem Statement**\n"
      ],
      "metadata": {
        "id": "yQaldy8SH6Dl"
      }
    },
    {
      "cell_type": "markdown",
      "source": [
        "**Netflix, one of the world’s leading OTT (Over-The-Top) streaming platforms, hosts a vast and diverse collection of Movies and TV Shows from multiple countries, genres, and languages. As the content library continues to expand, understanding patterns in the catalog — such as regional trends, content types, audience ratings, and duration preferences — becomes critical for strategic decision-making and improving user engagement.\n",
        "\n",
        "The main goal of this project is to perform Exploratory Data Analysis (EDA) on the Netflix dataset to uncover meaningful insights about its content strategy, distribution patterns, and audience focus. The dataset consists of 7,787 titles and 12 features, including details such as title, type, director, cast, country, release year, date added, rating, duration, genres, and description.\n",
        "\n",
        "This analysis aims to:\n",
        "\n",
        "Explore trends and patterns in content distribution (Movies vs. TV Shows).\n",
        "Identify growth in content additions across years and regions (especially the US and India).\n",
        "Analyze the most popular genres, ratings, durations, and seasons to understand viewer preferences.\n",
        "Highlight the global expansion strategy through localization of content.\n",
        "Prepare clean, structured, and feature-rich data for the next stage — Machine Learning-based Clustering.\n",
        "In the subsequent ML phase, the cleaned and processed dataset will be used to implement K-Means clustering, an unsupervised learning algorithm. This model will group similar titles based on attributes such as genre, rating, duration, and release patterns, allowing Netflix to better understand its content segmentation and improve its recommendation systems.\n",
        "\n",
        "By combining EDA and ML-driven insights, the project ultimately aims to support Netflix in achieving its business objectives of content diversification, audience retention, and data-driven decision-making.\n",
        "\n",
        "**"
      ],
      "metadata": {
        "id": "DpeJGUA3kjGy"
      }
    },
    {
      "cell_type": "markdown",
      "source": [
        "#### **Define Your Business Objective?**"
      ],
      "metadata": {
        "id": "PH-0ReGfmX4f"
      }
    },
    {
      "cell_type": "markdown",
      "source": [
        "The primary business objective of this project is to help Netflix optimize its content strategy and enhance user engagement through data-driven insights and clustering-based analysis.\n",
        "\n",
        "As Netflix continues to expand its global catalog, understanding how different types of content perform across regions, genres, and audiences becomes essential for maintaining competitiveness in the OTT market.\n",
        "This project aims to:\n",
        "\n",
        "Analyze Netflix’s Content Portfolio\n",
        "\n",
        "Explore trends in Movies and TV Shows by release year, addition year, duration, and ratings.\n",
        "Identify the most popular genres, content lengths, and regions contributing to the platform.\n",
        "Support Strategic Decision-Making\n",
        "\n",
        "Provide actionable insights on audience preferences and content diversity to guide Netflix’s content acquisition, production, and localization strategies.\n",
        "Highlight growth opportunities in underrepresented areas such as family-friendly and regional content.\n",
        "Enable Machine Learning-Based Segmentation\n",
        "\n",
        "Use insights from EDA to prepare data for K-Means clustering, an unsupervised ML model that will group similar titles based on shared attributes like genre, rating, duration, and release patterns.\n",
        "These clusters can help Netflix understand its content landscape better, identify content gaps, and design targeted recommendations for different audience segments.\n",
        "By achieving these objectives, Netflix can strengthen its content personalization, regional expansion, and audience retention strategies, ensuring sustainable growth and a more tailored viewing experience for users worldwide."
      ],
      "metadata": {
        "id": "PhDvGCAqmjP1"
      }
    },
    {
      "cell_type": "markdown",
      "source": [
        "# **General Guidelines** : -  "
      ],
      "metadata": {
        "id": "mDgbUHAGgjLW"
      }
    },
    {
      "cell_type": "markdown",
      "source": [
        "1.   Well-structured, formatted, and commented code is required.\n",
        "2.   Exception Handling, Production Grade Code & Deployment Ready Code will be a plus. Those students will be awarded some additional credits.\n",
        "     \n",
        "     The additional credits will have advantages over other students during Star Student selection.\n",
        "       \n",
        "             [ Note: - Deployment Ready Code is defined as, the whole .ipynb notebook should be executable in one go\n",
        "                       without a single error logged. ]\n",
        "\n",
        "3.   Each and every logic should have proper comments.\n",
        "4. You may add as many number of charts you want. Make Sure for each and every chart the following format should be answered.\n",
        "        \n",
        "\n",
        "```\n",
        "# Chart visualization code\n",
        "```\n",
        "            \n",
        "\n",
        "*   Why did you pick the specific chart?\n",
        "*   What is/are the insight(s) found from the chart?\n",
        "* Will the gained insights help creating a positive business impact?\n",
        "Are there any insights that lead to negative growth? Justify with specific reason.\n",
        "\n",
        "5. You have to create at least 20 logical & meaningful charts having important insights.\n",
        "\n",
        "\n",
        "[ Hints : - Do the Vizualization in  a structured way while following \"UBM\" Rule.\n",
        "\n",
        "U - Univariate Analysis,\n",
        "\n",
        "B - Bivariate Analysis (Numerical - Categorical, Numerical - Numerical, Categorical - Categorical)\n",
        "\n",
        "M - Multivariate Analysis\n",
        " ]\n",
        "\n",
        "\n",
        "\n"
      ],
      "metadata": {
        "id": "ZrxVaUj-hHfC"
      }
    },
    {
      "cell_type": "markdown",
      "source": [
        "# ***Let's Begin !***"
      ],
      "metadata": {
        "id": "O_i_v8NEhb9l"
      }
    },
    {
      "cell_type": "markdown",
      "source": [
        "## ***1. Know Your Data***"
      ],
      "metadata": {
        "id": "HhfV-JJviCcP"
      }
    },
    {
      "cell_type": "markdown",
      "source": [
        "### Import Libraries"
      ],
      "metadata": {
        "id": "Y3lxredqlCYt"
      }
    },
    {
      "cell_type": "code",
      "source": [
        "# Import Libraries\n",
        "import pandas as pd\n",
        "import numpy as np\n",
        "import matplotlib.pyplot as plt\n",
        "import seaborn as sns\n",
        "from wordcloud import WordCloud\n",
        "from google.colab import files"
      ],
      "metadata": {
        "id": "M8Vqi-pPk-HR"
      },
      "execution_count": null,
      "outputs": []
    },
    {
      "cell_type": "markdown",
      "source": [
        "### Dataset Loading"
      ],
      "metadata": {
        "id": "3RnN4peoiCZX"
      }
    },
    {
      "cell_type": "code",
      "source": [
        "# Load Dataset\n",
        "df = pd.read_csv(\"/content/NETFLIX MOVIES AND TV SHOWS CLUSTERING.csv\")"
      ],
      "metadata": {
        "id": "4CkvbW_SlZ_R"
      },
      "execution_count": null,
      "outputs": []
    },
    {
      "cell_type": "markdown",
      "source": [
        "### Dataset First View"
      ],
      "metadata": {
        "id": "x71ZqKXriCWQ"
      }
    },
    {
      "cell_type": "code",
      "source": [
        "# Dataset First Look\n",
        "df.head()"
      ],
      "metadata": {
        "id": "LWNFOSvLl09H"
      },
      "execution_count": null,
      "outputs": []
    },
    {
      "cell_type": "markdown",
      "source": [
        "### Dataset Rows & Columns count"
      ],
      "metadata": {
        "id": "7hBIi_osiCS2"
      }
    },
    {
      "cell_type": "code",
      "source": [
        "# Dataset Rows & Columns count\n",
        "num_rows = df.shape[0]\n",
        "num_cols = df.shape[1]\n",
        "print(f\"Number of rows: {num_rows}\")\n",
        "print(f\"Number of columns: {num_cols}\")"
      ],
      "metadata": {
        "id": "Kllu7SJgmLij"
      },
      "execution_count": null,
      "outputs": []
    },
    {
      "cell_type": "markdown",
      "source": [
        "### Dataset Information"
      ],
      "metadata": {
        "id": "JlHwYmJAmNHm"
      }
    },
    {
      "cell_type": "code",
      "source": [
        "# Dataset Info\n",
        "df.info()"
      ],
      "metadata": {
        "id": "e9hRXRi6meOf"
      },
      "execution_count": null,
      "outputs": []
    },
    {
      "cell_type": "markdown",
      "source": [
        "#### Duplicate Values"
      ],
      "metadata": {
        "id": "35m5QtbWiB9F"
      }
    },
    {
      "cell_type": "code",
      "source": [
        "# Dataset Duplicate Value Count\n",
        "duplicate_count = df.duplicated().sum()\n",
        "print(f\"Number of duplicate rows in the dataset: {duplicate_count}\")"
      ],
      "metadata": {
        "id": "1sLdpKYkmox0"
      },
      "execution_count": null,
      "outputs": []
    },
    {
      "cell_type": "markdown",
      "source": [
        "#### Missing Values/Null Values"
      ],
      "metadata": {
        "id": "PoPl-ycgm1ru"
      }
    },
    {
      "cell_type": "code",
      "source": [
        "# Missing Values/Null Values Count\n",
        "missing_values = df.isnull().sum()\n",
        "print(f\"Missing values per column: \\n{missing_values}\")"
      ],
      "metadata": {
        "id": "GgHWkxvamxVg"
      },
      "execution_count": null,
      "outputs": []
    },
    {
      "cell_type": "code",
      "source": [
        "# Visualizing the missing values\n",
        "missing_cols = missing_values[missing_values > 0]\n",
        "\n",
        "plt.figure(figsize=(10,5))\n",
        "sns.barplot(x=missing_cols.index,\n",
        "            y=missing_cols.values,\n",
        "            hue=missing_cols.index,\n",
        "            palette=\"viridis\",\n",
        "            legend=False)\n",
        "plt.xticks(rotation=45)\n",
        "plt.ylabel(\"Number of missing values\")\n",
        "plt.title(\"Missing values per column\")\n",
        "plt.show()"
      ],
      "metadata": {
        "id": "3q5wnI3om9sJ"
      },
      "execution_count": null,
      "outputs": []
    },
    {
      "cell_type": "markdown",
      "source": [
        "### What did you know about your dataset?"
      ],
      "metadata": {
        "id": "H0kj-8xxnORC"
      }
    },
    {
      "cell_type": "markdown",
      "source": [
        "The dataset contains 7,787 rows and 12 columns.\n",
        "Each row represents a movie or TV show available on Netflix as of 2019.\n",
        "Columns Description:\n",
        "\n",
        "show_id: Unique identifier for each title.\n",
        "type: Content type → Movie or TV Show.\n",
        "title: Name of the content.\n",
        "director: Director(s) (missing for ~30.7% of entries).\n",
        "cast: Main actors/actresses (missing for ~9.2% of entries).\n",
        "country: Country of origin (missing for ~6.5% of entries).\n",
        "date_added: The date when the content was added to Netflix.\n",
        "✅ Converted into datetime format for time-based analysis (only 10 missing).\n",
        "release_year: Original release year (no missing values).\n",
        "rating: Audience maturity rating (e.g., PG, R, TV-MA) (7 missing).\n",
        "duration: Duration in minutes (for Movies) or number of seasons (for TV Shows).\n",
        "listed_in: Genre(s) or categories.\n",
        "description: Short summary of the content.\n",
        "Data Quality Notes:\n",
        "\n",
        "There are no duplicate rows.\n",
        "Main missing values are in director, cast, country, and a few in date_added and rating.\n",
        "Data types:\n",
        "release_year is numeric (int64).\n",
        "date_added is now in datetime format.\n",
        "Most other columns are categorical (object).\n",
        "✅ In summary, this dataset is mostly clean and provides metadata about Netflix’s catalog.\n",
        "With date_added converted to datetime, we can also analyze content growth trends over time."
      ],
      "metadata": {
        "id": "gfoNAAC-nUe_"
      }
    },
    {
      "cell_type": "markdown",
      "source": [
        "## ***2. Understanding Your Variables***"
      ],
      "metadata": {
        "id": "nA9Y7ga8ng1Z"
      }
    },
    {
      "cell_type": "code",
      "source": [
        "# Dataset Columns\n",
        "df.columns.tolist()"
      ],
      "metadata": {
        "id": "j7xfkqrt5Ag5"
      },
      "execution_count": null,
      "outputs": []
    },
    {
      "cell_type": "code",
      "source": [
        "# Dataset Describe\n",
        "df.describe()"
      ],
      "metadata": {
        "id": "DnOaZdaE5Q5t"
      },
      "execution_count": null,
      "outputs": []
    },
    {
      "cell_type": "markdown",
      "source": [
        "### Variables Description"
      ],
      "metadata": {
        "id": "PBTbrJXOngz2"
      }
    },
    {
      "cell_type": "markdown",
      "source": [
        "show_id → Unique ID assigned to each title in the dataset.\n",
        "type → Indicates whether the content is a Movie or a TV Show.\n",
        "title → Name of the movie or TV show.\n",
        "director → Name(s) of the director(s) of the content.\n",
        "cast → Main actors/actresses featured in the content.\n",
        "country → Country where the movie/TV show was produced.\n",
        "date_added → The date when the movie/TV show was added to Netflix (converted to datetime format).\n",
        "release_year → Year when the content was originally released.\n",
        "rating → Audience maturity rating (e.g., PG, R, TV-MA).\n",
        "duration → Duration of the content:\n",
        "Movies → in minutes.\n",
        "TV Shows → in number of seasons.\n",
        "listed_in → Categories/genres of the content (e.g., \"Drama\", \"Action\", \"Comedy\").\n",
        "description → Short summary or synopsis of the content."
      ],
      "metadata": {
        "id": "aJV4KIxSnxay"
      }
    },
    {
      "cell_type": "markdown",
      "source": [
        "### Check Unique Values for each variable."
      ],
      "metadata": {
        "id": "u3PMJOP6ngxN"
      }
    },
    {
      "cell_type": "code",
      "source": [
        "# Check Unique Values for each variable.\n",
        "df.nunique()"
      ],
      "metadata": {
        "id": "zms12Yq5n-jE"
      },
      "execution_count": null,
      "outputs": []
    },
    {
      "cell_type": "markdown",
      "source": [
        "## 3. ***Data Wrangling***"
      ],
      "metadata": {
        "id": "dauF4eBmngu3"
      }
    },
    {
      "cell_type": "markdown",
      "source": [
        "### Data Wrangling Code"
      ],
      "metadata": {
        "id": "bKJF3rekwFvQ"
      }
    },
    {
      "cell_type": "code",
      "source": [
        "# Write your code to make your dataset analysis ready.\n",
        "# 1. Remove duplicates\n",
        "df.drop_duplicates(inplace=True)\n",
        "print(\"After removing duplicates, dataset shape:\", df.shape, \"\\n\")\n",
        "\n",
        "# 2. handle missing values\n",
        "df.fillna({\n",
        "    'country': 'Unknown',\n",
        "    'director': 'Unknown',\n",
        "    'cast' : 'Unknown',\n",
        "    'rating' : 'Unknown',\n",
        "    'duration' : 'Unknown',\n",
        "    'listed_in' : 'Unknown'\n",
        "}, inplace = True)\n",
        "df.head()\n",
        "\n",
        "# convert columns to correct types\n",
        "df['date_added'] = pd.to_datetime(df['date_added'], errors = 'coerce')\n",
        "df['year_added'] = df['date_added'].dt.year\n",
        "df['month_added'] = df['date_added'].dt.month\n",
        "df['release_year'] = df['release_year'].astype(int)\n",
        "\n",
        "# Standardize text columns\n",
        "df['type'] = df['type'].str.strip().str.lower()\n",
        "df['rating'] = df['rating'].str.strip()\n",
        "\n",
        "print(\"Dataset after data wrangling:\",)\n",
        "print(df.info())"
      ],
      "metadata": {
        "id": "wk-9a2fpoLcV"
      },
      "execution_count": null,
      "outputs": []
    },
    {
      "cell_type": "markdown",
      "source": [
        "### What all manipulations have you done and insights you found?"
      ],
      "metadata": {
        "id": "MSa1f5Uengrz"
      }
    },
    {
      "cell_type": "markdown",
      "source": [
        "Manipulations Performed:\n",
        "\n",
        "Replaced missing values in categorical columns (director, cast, country, rating) with \"Unknown\" to avoid dropping useful rows.\n",
        "Created new columns:\n",
        "year_added → extracted the year from date_added for trend analysis.\n",
        "month_added → extracted the month from date_added for seasonal analysis.\n",
        "Key Insights from EDA:\n",
        "\n",
        "Content Type: Netflix has more Movies than TV Shows in the dataset.\n",
        "Release Year Trend: Most content was released after 2000, with a sharp rise after 2010, showing Netflix focuses on recent content.\n",
        "Year Added Trend: Number of titles added to Netflix has been increasing year by year (especially after 2015).\n",
        "Ratings: The most common audience ratings are TV-MA (Mature Audience) and TV-14, showing Netflix has a lot of content for older teens and adults.\n",
        "Top Countries: The majority of Netflix titles come from the United States, followed by India, United Kingdom, and Japan.\n",
        "Genres: The most popular categories are International Movies, Dramas, and Comedies.\n",
        "Seasonality: Some months (e.g., December) see slightly higher additions, likely due to holiday season releases.\n"
      ],
      "metadata": {
        "id": "LbyXE7I1olp8"
      }
    },
    {
      "cell_type": "markdown",
      "source": [
        "## ***4. Data Vizualization, Storytelling & Experimenting with charts : Understand the relationships between variables***"
      ],
      "metadata": {
        "id": "GF8Ens_Soomf"
      }
    },
    {
      "cell_type": "markdown",
      "source": [
        "#### Chart - 1"
      ],
      "metadata": {
        "id": "0wOQAZs5pc--"
      }
    },
    {
      "cell_type": "code",
      "source": [
        "# Chart - 1 visualization code\n",
        "# 1. distribution of content types\n",
        "type_counts_df = df['type'].value_counts().reset_index()\n",
        "type_counts_df.columns = ['type', 'count']\n",
        "sns.barplot(data= type_counts_df, x = 'type', y='count', hue='type',dodge=False, palette=\"viridis\")\n",
        "plt.title(\"Distribution of Content Type onNetflix\")\n",
        "plt.ylabel(\"Number of Titles\")\n",
        "plt.xlabel(\"Content Type\")\n",
        "plt.show()"
      ],
      "metadata": {
        "id": "7v_ESjsspbW7"
      },
      "execution_count": null,
      "outputs": []
    },
    {
      "cell_type": "markdown",
      "source": [
        "##### 1. Why did you pick the specific chart?"
      ],
      "metadata": {
        "id": "K5QZ13OEpz2H"
      }
    },
    {
      "cell_type": "markdown",
      "source": [
        "A count plot was chosen because it clearly shows the distribution of Netflix content across two categories — Movies and TV Shows. It is the simplest and most effective way to compare counts between two groups."
      ],
      "metadata": {
        "id": "XESiWehPqBRc"
      }
    },
    {
      "cell_type": "markdown",
      "source": [
        "##### 2. What is/are the insight(s) found from the chart?"
      ],
      "metadata": {
        "id": "lQ7QKXXCp7Bj"
      }
    },
    {
      "cell_type": "markdown",
      "source": [
        "Movies dominate the Netflix catalog with 5,377 titles compared to 2,410 TV shows. This shows Netflix has historically focused more on movies."
      ],
      "metadata": {
        "id": "C_j1G7yiqdRP"
      }
    },
    {
      "cell_type": "markdown",
      "source": [
        "##### 3. Will the gained insights help creating a positive business impact?\n",
        "Are there any insights that lead to negative growth? Justify with specific reason."
      ],
      "metadata": {
        "id": "448CDAPjqfQr"
      }
    },
    {
      "cell_type": "markdown",
      "source": [
        "Are there any insights that lead to negative growth? Justify with specific reason.\n",
        "\n",
        "Yes. Knowing that movies are more prevalent can help Netflix analyze whether they need to increase investments in TV shows (which tend to drive long-term subscriptions) or maintain the current balance. This insight can also inform content strategy and marketing decisions."
      ],
      "metadata": {
        "id": "3cspy4FjqxJW"
      }
    },
    {
      "cell_type": "markdown",
      "source": [
        "#### Chart - 2"
      ],
      "metadata": {
        "id": "KSlN3yHqYklG"
      }
    },
    {
      "cell_type": "code",
      "source": [
        "# Chart - 2 visualization code\n",
        "# 2. Distribution of release year\n",
        "plt.figure(figsize=(12,6))\n",
        "sns.histplot(df['release_year'], bins=30, kde=False, color=\"skyblue\")\n",
        "plt.title(\"Distribution of Netflix Titles by Release Year\")\n",
        "plt.xlabel(\"Release Year\")\n",
        "plt.ylabel(\"Number of Titles\")\n",
        "plt.show()"
      ],
      "metadata": {
        "id": "R4YgtaqtYklH"
      },
      "execution_count": null,
      "outputs": []
    },
    {
      "cell_type": "markdown",
      "source": [
        "##### 1. Why did you pick the specific chart?"
      ],
      "metadata": {
        "id": "t6dVpIINYklI"
      }
    },
    {
      "cell_type": "markdown",
      "source": [
        "I picked a grouped count plot with hue because it clearly shows the yearly trend of Movies and TV Shows being added to Netflix. The grouped bars make it easy to compare the growth of both categories side by side across years.\n",
        "\n"
      ],
      "metadata": {
        "id": "5aaW0BYyYklI"
      }
    },
    {
      "cell_type": "markdown",
      "source": [
        "##### 2. What is/are the insight(s) found from the chart?"
      ],
      "metadata": {
        "id": "ijmpgYnKYklI"
      }
    },
    {
      "cell_type": "markdown",
      "source": [
        "Netflix consistently added more Movies than TV Shows in every year.\n",
        "After 2015, both categories saw a sharp increase, showing Netflix’s rapid content expansion.\n",
        "TV Shows began to rise significantly after 2017, highlighting Netflix’s strategic push into serialized content to boost long-term viewer engagement.\n",
        "The peak content addition years were 2018–2019, with Movies dominating, while TV Shows also saw steady growth."
      ],
      "metadata": {
        "id": "PSx9atu2YklI"
      }
    },
    {
      "cell_type": "markdown",
      "source": [
        "##### 3. Will the gained insights help creating a positive business impact?\n",
        "Are there any insights that lead to negative growth? Justify with specific reason."
      ],
      "metadata": {
        "id": "-JiQyfWJYklI"
      }
    },
    {
      "cell_type": "markdown",
      "source": [
        "Are there any insights that lead to negative growth? Justify with specific reason.\n",
        "\n",
        "Yes. This insight highlights Netflix’s evolving strategy — initially focusing on Movies, then increasing investment in TV Shows. Since TV Shows often encourage binge-watching and long-term subscriptions, while Movies attract broad audiences quickly, Netflix can use this balance to:\n",
        "\n",
        "Strengthen subscriber retention (via TV Shows).\n",
        "Attract new users (via Movies).\n",
        "This informs content acquisition, production planning, and marketing campaigns."
      ],
      "metadata": {
        "id": "BcBbebzrYklV"
      }
    },
    {
      "cell_type": "markdown",
      "source": [
        "#### Chart - 3"
      ],
      "metadata": {
        "id": "EM7whBJCYoAo"
      }
    },
    {
      "cell_type": "code",
      "source": [
        "# Chart - 3 visualization code\n",
        "# 3. number of titles added per year on netflix\n",
        "added_counts = df['year_added'].value_counts().sort_index()\n",
        "plt.figure(figsize=(12,6))\n",
        "sns.lineplot(x=added_counts.index, y=added_counts.values, marker=\"o\", color=\"orange\")\n",
        "plt.title(\"Number of Titles Added Per Year on Netflix\")\n",
        "plt.xlabel(\"Year Added\")\n",
        "plt.ylabel(\"Number of Titles Added\")\n",
        "plt.show()"
      ],
      "metadata": {
        "id": "t6GMdE67YoAp"
      },
      "execution_count": null,
      "outputs": []
    },
    {
      "cell_type": "markdown",
      "source": [
        "##### 1. Why did you pick the specific chart?"
      ],
      "metadata": {
        "id": "fge-S5ZAYoAp"
      }
    },
    {
      "cell_type": "markdown",
      "source": [
        "I picked a grouped count plot with hue=\"type\" because it allows us to compare how many Movies and TV Shows were added in each month of the year. This helps identify if there are any seasonal trends in Netflix’s content additions.\n",
        "\n"
      ],
      "metadata": {
        "id": "5dBItgRVYoAp"
      }
    },
    {
      "cell_type": "markdown",
      "source": [
        "##### 2. What is/are the insight(s) found from the chart?"
      ],
      "metadata": {
        "id": "85gYPyotYoAp"
      }
    },
    {
      "cell_type": "markdown",
      "source": [
        "Movies dominate additions in every month compared to TV Shows.\n",
        "Higher content additions are seen in January, October, November, and December, showing a seasonal push during the start and end of the year.\n",
        "TV Shows follow a similar pattern but with consistently lower counts.\n",
        "December has the highest total additions, suggesting Netflix strengthens its library for the holiday season."
      ],
      "metadata": {
        "id": "4jstXR6OYoAp"
      }
    },
    {
      "cell_type": "markdown",
      "source": [
        "##### 3. Will the gained insights help creating a positive business impact?\n",
        "Are there any insights that lead to negative growth? Justify with specific reason."
      ],
      "metadata": {
        "id": "RoGjAbkUYoAp"
      }
    },
    {
      "cell_type": "markdown",
      "source": [
        "Are there any insights that lead to negative growth? Justify with specific reason.\n",
        "\n",
        "Yes. Understanding seasonal trends helps Netflix:\n",
        "\n",
        "Plan content releases strategically to maximize viewership during high-demand months like December.\n",
        "Balance content drops throughout the year to keep subscriber engagement steady.\n",
        "Align marketing and promotional campaigns with peak content addition months.\n",
        "This ensures better audience retention and imp"
      ],
      "metadata": {
        "id": "zfJ8IqMcYoAp"
      }
    },
    {
      "cell_type": "markdown",
      "source": [
        "#### Chart - 4"
      ],
      "metadata": {
        "id": "4Of9eVA-YrdM"
      }
    },
    {
      "cell_type": "code",
      "source": [
        "# Chart - 4 visualization code\n",
        "# 4. Top 10 countries with most content\n",
        "countries_series = df['country'].str.split(', ').explode()\n",
        "top_countries = countries_series.value_counts().head(10)\n",
        "top_countries_df = top_countries.reset_index()\n",
        "top_countries_df.columns = ['country', 'count']\n",
        "sns.barplot(data=top_countries_df, x='count', y='country', hue='country', dodge = False, palette = \"magma\")\n",
        "plt.title(\"Top 10 Countries with Most Netflix Content\")\n",
        "plt.xlabel(\"Number of Titles\")\n",
        "plt.ylabel(\"Country\")\n",
        "plt.show()"
      ],
      "metadata": {
        "id": "irlUoxc8YrdO"
      },
      "execution_count": null,
      "outputs": []
    },
    {
      "cell_type": "markdown",
      "source": [
        "##### 1. Why did you pick the specific chart?"
      ],
      "metadata": {
        "id": "iky9q4vBYrdO"
      }
    },
    {
      "cell_type": "markdown",
      "source": [
        "I chose a grouped bar plot with hue=\"type\" because it allows comparison between Movies and TV Shows within the Top 10 contributing countries. This makes it easy to see not only which countries provide the most content, but also whether their contributions are dominated by Movies or TV Shows."
      ],
      "metadata": {
        "id": "aJRCwT6DYrdO"
      }
    },
    {
      "cell_type": "markdown",
      "source": [
        "##### 2. What is/are the insight(s) found from the chart?"
      ],
      "metadata": {
        "id": "F6T5p64dYrdO"
      }
    },
    {
      "cell_type": "markdown",
      "source": [
        "The United States dominates Netflix’s library with the highest number of both Movies (1850) and TV Shows (705).\n",
        "India stands out as the second-largest contributor, heavily focused on Movies (852).\n",
        "Countries like the United Kingdom, Japan, and South Korea contribute a more balanced mix of Movies and TV Shows.\n",
        "Smaller but consistent contributions are observed from Canada, France, Spain, and Turkey.\n",
        "Some regions (e.g., South Korea and Japan) show a stronger focus on TV Shows compared to Movies, reflecting cultural preferences for serialized content."
      ],
      "metadata": {
        "id": "Xx8WAJvtYrdO"
      }
    },
    {
      "cell_type": "markdown",
      "source": [
        "##### 3. Will the gained insights help creating a positive business impact?\n",
        "Are there any insights that lead to negative growth? Justify with specific reason."
      ],
      "metadata": {
        "id": "y-Ehk30pYrdP"
      }
    },
    {
      "cell_type": "markdown",
      "source": [
        "Are there any insights that lead to negative growth? Justify with specific reason.\n",
        "\n",
        "Yes, these insights have a strong positive business impact. Netflix can:\n",
        "\n",
        "Strengthen its localized content strategy by investing more in top-performing regions like the U.S. and India.\n",
        "Focus on regional preferences, e.g., producing more TV Shows in South Korea/Japan where demand is strong.\n",
        "Expand content acquisition in countries with lower contributions but growing audiences (e.g., Spain, Turkey).\n",
        "Potential risk (negative growth insight): Over-reliance on U.S. and Indian markets might limit global diversification. If Netflix fails to balance regional contributions, it could face saturation in dominant regions and miss growth opportunities in emerging markets. Hence, diversification is critical."
      ],
      "metadata": {
        "id": "jLNxxz7MYrdP"
      }
    },
    {
      "cell_type": "markdown",
      "source": [
        "#### Chart - 5"
      ],
      "metadata": {
        "id": "bamQiAODYuh1"
      }
    },
    {
      "cell_type": "code",
      "source": [
        "# Chart - 5 visualization code\n",
        "# 5. top 10 genres\n",
        "genres_series = df['listed_in'].str.split(', ').explode()\n",
        "top_genres = genres_series.value_counts().head(10)\n",
        "top_genres_df = top_genres.reset_index()\n",
        "top_genres_df.columns = ['genre', 'count']\n",
        "sns.barplot(data=top_genres_df, x='count', y='genre', hue='genre', dodge=False, palette=\"coolwarm\")\n",
        "plt.title(\"Top 10 Genres on Netflix\")\n",
        "plt.xlabel(\"Number of Titles\")\n",
        "plt.ylabel(\"Genre\")\n",
        "plt.show()"
      ],
      "metadata": {
        "id": "TIJwrbroYuh3"
      },
      "execution_count": null,
      "outputs": []
    },
    {
      "cell_type": "markdown",
      "source": [
        "##### 1. Why did you pick the specific chart?"
      ],
      "metadata": {
        "id": "QHF8YVU7Yuh3"
      }
    },
    {
      "cell_type": "markdown",
      "source": [
        "A grouped bar plot with hue=\"type\" was chosen to show the top 10 release years contributing the highest number of titles on Netflix. This type of chart clearly compares how content production has changed over the years and whether Movies or TV Shows dominate in those years."
      ],
      "metadata": {
        "id": "dcxuIMRPYuh3"
      }
    },
    {
      "cell_type": "markdown",
      "source": [
        "##### 2. What is/are the insight(s) found from the chart?"
      ],
      "metadata": {
        "id": "GwzvFGzlYuh3"
      }
    },
    {
      "cell_type": "markdown",
      "source": [
        "The majority of Netflix titles were released between 2015 and 2020, showing Netflix’s focus on modern content.\n",
        "2017 and 2018 have the highest content releases, especially Movies.\n",
        "TV Shows started catching up around 2018–2020, indicating a growing trend toward serialized content.\n",
        "Older years (before 2013) have far fewer titles, showing Netflix prefers to stream recent productions."
      ],
      "metadata": {
        "id": "uyqkiB8YYuh3"
      }
    },
    {
      "cell_type": "markdown",
      "source": [
        "##### 3. Will the gained insights help creating a positive business impact?\n",
        "Are there any insights that lead to negative growth? Justify with specific reason."
      ],
      "metadata": {
        "id": "qYpmQ266Yuh3"
      }
    },
    {
      "cell_type": "markdown",
      "source": [
        "Are there any insights that lead to negative growth? Justify with specific reason.\n",
        "\n",
        "Yes, these insights positively impact Netflix’s content strategy. By recognizing that recent years bring more engaging and relevant content, Netflix can continue to focus on producing and acquiring new releases to maintain user interest.\n",
        "\n",
        "However, a potential negative growth insight is the low presence of older titles, which could alienate users who enjoy classic movies or shows. Maintaining a small but consistent library of classics could help attract a broader audience.\n",
        "Overall, this analysis supports Netflix’s strategy to invest in fresh, high-performing, and modern content while ensuring genre and era diversity."
      ],
      "metadata": {
        "id": "_WtzZ_hCYuh4"
      }
    },
    {
      "cell_type": "markdown",
      "source": [
        "#### Chart - 6"
      ],
      "metadata": {
        "id": "OH-pJp9IphqM"
      }
    },
    {
      "cell_type": "code",
      "source": [
        "# Chart - 6 visualization code\n",
        "# 6. content type vs rating\n",
        "plt.figure(figsize=(12,6))\n",
        "sns.countplot(data=df, x='rating', hue='type', palette=\"Set2\")\n",
        "plt.title(\"Content Type vs Rating\")\n",
        "plt.xticks(rotation=45)\n",
        "plt.xlabel(\"Rating\")\n",
        "plt.ylabel(\"Count\")\n",
        "plt.show()"
      ],
      "metadata": {
        "id": "kuRf4wtuphqN"
      },
      "execution_count": null,
      "outputs": []
    },
    {
      "cell_type": "markdown",
      "source": [
        "##### 1. Why did you pick the specific chart?"
      ],
      "metadata": {
        "id": "bbFf2-_FphqN"
      }
    },
    {
      "cell_type": "markdown",
      "source": [
        "I selected a line chart because it effectively shows the trend of how the average delay (in years) between a title’s release and its addition to Netflix has changed over time. The line chart highlights Netflix’s evolving content acquisition and production strategy across release years.\n",
        "\n"
      ],
      "metadata": {
        "id": "loh7H2nzphqN"
      }
    },
    {
      "cell_type": "markdown",
      "source": [
        "##### 2. What is/are the insight(s) found from the chart?"
      ],
      "metadata": {
        "id": "_ouA3fa0phqN"
      }
    },
    {
      "cell_type": "markdown",
      "source": [
        "n the early years (1990s–2000s), the average delay was around 15–20 years, meaning Netflix was primarily acquiring older content.\n",
        "From 2010 onwards, the delay started decreasing sharply, dropping below 5 years by 2015.\n",
        "After 2018, the gap became almost zero, showing that Netflix now adds content very close to its original release year — likely due to an increase in Netflix Originals and faster licensing deals."
      ],
      "metadata": {
        "id": "VECbqPI7phqN"
      }
    },
    {
      "cell_type": "markdown",
      "source": [
        "##### 3. Will the gained insights help creating a positive business impact?\n",
        "Are there any insights that lead to negative growth? Justify with specific reason."
      ],
      "metadata": {
        "id": "Seke61FWphqN"
      }
    },
    {
      "cell_type": "markdown",
      "source": [
        "Are there any insights that lead to negative growth? Justify with specific reason.\n",
        "\n",
        "Yes, these insights show a strong positive business trend. A shorter content acquisition gap means:\n",
        "\n",
        "Netflix provides fresher and more relevant content, increasing viewer satisfaction.\n",
        "It strengthens Netflix’s competitive edge by offering new titles faster than competitors.\n",
        "It also highlights the success of Netflix Originals, which are added immediately upon release.\n",
        "However, a potential negative growth insight is the rising cost of rapid content acquisition and production, as maintaining short turnaround times often requires larger investments. Netflix must ensure this speed remains financially sustainable while maintaining quality."
      ],
      "metadata": {
        "id": "DW4_bGpfphqN"
      }
    },
    {
      "cell_type": "markdown",
      "source": [
        "#### Chart - 7"
      ],
      "metadata": {
        "id": "PIIx-8_IphqN"
      }
    },
    {
      "cell_type": "code",
      "source": [
        "# Chart - 7 visualization code\n",
        "# 7. Filter only movies\n",
        "movies = df[df['type'].str.strip().str.lower() == 'movie'].copy()\n",
        "movies['duration_num'] = movies['duration'].str.extract(r'(\\d+)').astype(float)\n",
        "movies = movies.dropna(subset=['duration_num'])\n",
        "\n",
        "plt.figure(figsize=(10,5))\n",
        "sns.histplot(data=movies, x='duration_num', bins=20, kde=True, color=sns.color_palette(\"Set2\")[0])\n",
        "plt.title(\"Distribution of Movie Durations\")\n",
        "plt.xlabel(\"Duration (minutes)\")\n",
        "plt.ylabel(\"Frequency\")\n",
        "plt.show()"
      ],
      "metadata": {
        "id": "lqAIGUfyphqO"
      },
      "execution_count": null,
      "outputs": []
    },
    {
      "cell_type": "markdown",
      "source": [
        "##### 1. Why did you pick the specific chart?"
      ],
      "metadata": {
        "id": "t27r6nlMphqO"
      }
    },
    {
      "cell_type": "markdown",
      "source": [
        "A bar chart was chosen because it effectively shows how Netflix content is distributed across different audience ratings (like TV-MA, TV-14, PG, etc.). This helps visualize which type of content dominates the platform in terms of maturity level.\n",
        "\n"
      ],
      "metadata": {
        "id": "iv6ro40sphqO"
      }
    },
    {
      "cell_type": "markdown",
      "source": [
        "##### 2. What is/are the insight(s) found from the chart?"
      ],
      "metadata": {
        "id": "r2jJGEOYphqO"
      }
    },
    {
      "cell_type": "markdown",
      "source": [
        "The most common rating on Netflix is TV-MA, followed by TV-14 and R.\n",
        "This indicates Netflix’s catalog is heavily skewed toward content suitable for mature audiences.\n",
        "Family-friendly ratings (like G, PG, or TV-Y) make up a much smaller portion."
      ],
      "metadata": {
        "id": "Po6ZPi4hphqO"
      }
    },
    {
      "cell_type": "markdown",
      "source": [
        "##### 3. Will the gained insights help creating a positive business impact?\n",
        "Are there any insights that lead to negative growth? Justify with specific reason."
      ],
      "metadata": {
        "id": "b0JNsNcRphqO"
      }
    },
    {
      "cell_type": "markdown",
      "source": [
        "Are there any insights that lead to negative growth? Justify with specific reason.\n",
        "\n",
        "Yes, this insight helps Netflix better understand its content maturity balance.\n",
        "\n",
        "The dominance of TV-MA content shows strong appeal to adult viewers, aligning with global streaming trends.\n",
        "However, the relatively low proportion of children’s content could indicate a gap in the family-friendly segment, which might limit Netflix’s growth among younger audiences.\n",
        "Netflix could use this insight to expand kid-focused productions and diversify its catalog. Would you like me to help you with the next chart — “Top 10 Genres” (from the listed_in column)? That’s another strong visual with business relevance."
      ],
      "metadata": {
        "id": "xvSq8iUTphqO"
      }
    },
    {
      "cell_type": "markdown",
      "source": [
        "#### Chart - 8"
      ],
      "metadata": {
        "id": "BZR9WyysphqO"
      }
    },
    {
      "cell_type": "code",
      "source": [
        "# Chart - 8 visualization code\n",
        "# 8. Movies vs TV Shows added over time\n",
        "plt.figure(figsize=(10,6))\n",
        "sns.countplot(data=df, x='year_added', hue='type')\n",
        "plt.title(\"Movies vs TV Shows Added Over Time\")\n",
        "plt.xticks(rotation=45)\n",
        "plt.show()"
      ],
      "metadata": {
        "id": "TdPTWpAVphqO"
      },
      "execution_count": null,
      "outputs": []
    },
    {
      "cell_type": "markdown",
      "source": [
        "##### 1. Why did you pick the specific chart?"
      ],
      "metadata": {
        "id": "jj7wYXLtphqO"
      }
    },
    {
      "cell_type": "markdown",
      "source": [
        "I chose a grouped bar chart with hue=\"type\" because it clearly shows the distribution of Movies and TV Shows across different audience ratings (such as TV-MA, TV-14, R, PG-13, etc.). This chart helps in understanding what type of content Netflix offers for various audience maturity levels.\n",
        "\n"
      ],
      "metadata": {
        "id": "Ob8u6rCTphqO"
      }
    },
    {
      "cell_type": "markdown",
      "source": [
        "##### 2. What is/are the insight(s) found from the chart?"
      ],
      "metadata": {
        "id": "eZrbJ2SmphqO"
      }
    },
    {
      "cell_type": "markdown",
      "source": [
        "The TV-MA (Mature Audience) rating dominates for both Movies and TV Shows, showing Netflix’s strong focus on adult-oriented content.\n",
        "TV-14 is the second most common rating, indicating significant content for teenagers and general audiences.\n",
        "Family-friendly or children’s ratings like TV-Y, TV-G, and PG have relatively low counts.\n",
        "Movies have a broader range of ratings, while TV Shows are mostly concentrated around TV-MA and TV-14.\n",
        "This suggests that Netflix’s catalog primarily targets adult and young-adult audiences."
      ],
      "metadata": {
        "id": "mZtgC_hjphqO"
      }
    },
    {
      "cell_type": "markdown",
      "source": [
        "##### 3. Will the gained insights help creating a positive business impact?\n",
        "Are there any insights that lead to negative growth? Justify with specific reason."
      ],
      "metadata": {
        "id": "rFu4xreNphqO"
      }
    },
    {
      "cell_type": "markdown",
      "source": [
        "Yes, these insights help Netflix refine its content strategy:\n",
        "\n",
        "The dominance of TV-MA and TV-14 content aligns with the global streaming trend where mature, original, and dramatic content drives high engagement.\n",
        "This focus supports positive growth by strengthening Netflix’s position among adult and teen viewers — its largest user demographic.\n",
        "However, a negative growth insight is the limited offering of family and children’s content, which may reduce Netflix’s appeal to households with younger viewers. Expanding kid-safe and educational content could help Netflix tap into that untapped audience segment and reduce churn among family subscribers.Answer Here"
      ],
      "metadata": {
        "id": "ey_0qi68phqO"
      }
    },
    {
      "cell_type": "markdown",
      "source": [
        "#### Chart - 9"
      ],
      "metadata": {
        "id": "YJ55k-q6phqO"
      }
    },
    {
      "cell_type": "code",
      "source": [
        "# Chart - 9 visualization code\n",
        "# 9. Rating distribution for Movies vs TV Shows\n",
        "plt.figure(figsize=(10,6))\n",
        "sns.countplot(data=df, x='rating', hue='type', order=df['rating'].value_counts().index)\n",
        "plt.title(\"Rating Distribution by Content Type\")\n",
        "plt.xticks(rotation=45)\n",
        "plt.show()"
      ],
      "metadata": {
        "id": "B2aS4O1ophqO"
      },
      "execution_count": null,
      "outputs": []
    },
    {
      "cell_type": "markdown",
      "source": [
        "##### 1. Why did you pick the specific chart?"
      ],
      "metadata": {
        "id": "gCFgpxoyphqP"
      }
    },
    {
      "cell_type": "markdown",
      "source": [
        "A histogram was chosen because it effectively shows how movie durations are distributed on Netflix. It helps identify the most common movie lengths and whether Netflix focuses more on short, standard-length, or long movies.\n",
        "\n"
      ],
      "metadata": {
        "id": "TVxDimi2phqP"
      }
    },
    {
      "cell_type": "markdown",
      "source": [
        "##### 2. What is/are the insight(s) found from the chart?"
      ],
      "metadata": {
        "id": "OVtJsKN_phqQ"
      }
    },
    {
      "cell_type": "markdown",
      "source": [
        "Most Netflix movies fall within the 80 to 120 minutes range, representing standard feature-length films.\n",
        "Very few movies are shorter than 60 minutes or longer than 150 minutes, indicating that Netflix prioritizes moderate-length films suitable for casual viewing.\n",
        "The distribution is slightly right-skewed, showing that while most movies are around 90–100 minutes, a small number extend beyond 2 hours.\n",
        "This pattern suggests that Netflix optimizes its movie catalog for binge-watch convenience and viewer attention spans."
      ],
      "metadata": {
        "id": "ngGi97qjphqQ"
      }
    },
    {
      "cell_type": "markdown",
      "source": [
        "##### 3. Will the gained insights help creating a positive business impact?\n",
        "Are there any insights that lead to negative growth? Justify with specific reason."
      ],
      "metadata": {
        "id": "lssrdh5qphqQ"
      }
    },
    {
      "cell_type": "markdown",
      "source": [
        "Yes, this insight supports Netflix’s positive business strategy. By focusing on medium-duration movies, Netflix ensures higher viewer completion rates and repeat engagement.\n",
        "However, the potential negative growth insight is the lack of variety in movie lengths.\n",
        "\n",
        "There are fewer short films or long cinematic experiences, which could limit Netflix’s appeal to niche viewers (e.g., indie or documentary enthusiasts).\n",
        "To maintain steady growth, Netflix could diversify by adding short-form movies, documentaries, or extended-length films to attract a broader audience."
      ],
      "metadata": {
        "id": "tBpY5ekJphqQ"
      }
    },
    {
      "cell_type": "markdown",
      "source": [
        "#### Chart - 10"
      ],
      "metadata": {
        "id": "U2RJ9gkRphqQ"
      }
    },
    {
      "cell_type": "code",
      "source": [
        "# Chart - 10 visualization code\n",
        "# 10. Top 10 directors with most titles\n",
        "top_directors = df['director'].value_counts().head(10)\n",
        "\n",
        "plt.figure(figsize=(10,6))\n",
        "sns.barplot(\n",
        "    x=top_directors.values,\n",
        "    y=top_directors.index,\n",
        "    hue=top_directors.index,\n",
        "    palette=\"viridis\",\n",
        "    legend=False\n",
        ")\n",
        "plt.title(\"Top 10 Directors with Most Titles\")\n",
        "plt.xlabel(\"Number of Titles\")\n",
        "plt.ylabel(\"Director\")\n",
        "plt.show()\n"
      ],
      "metadata": {
        "id": "GM7a4YP4phqQ"
      },
      "execution_count": null,
      "outputs": []
    },
    {
      "cell_type": "markdown",
      "source": [
        "##### 1. Why did you pick the specific chart?"
      ],
      "metadata": {
        "id": "1M8mcRywphqQ"
      }
    },
    {
      "cell_type": "markdown",
      "source": [
        "A bar chart was chosen because it clearly displays how many TV shows have a certain number of seasons. This helps visualize whether Netflix primarily focuses on short series, mini-series, or long-running shows.\n",
        "\n"
      ],
      "metadata": {
        "id": "8agQvks0phqQ"
      }
    },
    {
      "cell_type": "markdown",
      "source": [
        "##### 2. What is/are the insight(s) found from the chart?"
      ],
      "metadata": {
        "id": "tgIPom80phqQ"
      }
    },
    {
      "cell_type": "markdown",
      "source": [
        "A large majority of TV shows (over 1,600 titles) have only 1 season, followed by a steep drop for multi-season series.\n",
        "Very few shows go beyond 3–4 seasons, and long-running shows (with 10+ seasons) are extremely rare.\n",
        "This pattern suggests that Netflix emphasizes short-format or limited-series content, likely to maintain viewer interest and reduce production costs."
      ],
      "metadata": {
        "id": "Qp13pnNzphqQ"
      }
    },
    {
      "cell_type": "markdown",
      "source": [
        "##### 3. Will the gained insights help creating a positive business impact?\n",
        "Are there any insights that lead to negative growth? Justify with specific reason."
      ],
      "metadata": {
        "id": "JMzcOPDDphqR"
      }
    },
    {
      "cell_type": "markdown",
      "source": [
        "Yes, these insights positively highlight Netflix’s content strategy.\n",
        "\n",
        "By focusing on 1–2 season series, Netflix can offer diverse content quickly, appealing to binge-watchers who prefer shorter commitments.\n",
        "This approach keeps the catalog dynamic and encourages viewers to explore new titles frequently.\n",
        "However, a potential negative growth insight is the lack of long-running shows, which can limit viewer loyalty and attachment to a series.\n",
        "Longer series tend to build stronger fan bases and sustained engagement.\n",
        "To balance growth, Netflix could invest in multi-season flagship series that maintain audience retention while continuing to produce short, high-turnover showsAnswer Here"
      ],
      "metadata": {
        "id": "R4Ka1PC2phqR"
      }
    },
    {
      "cell_type": "markdown",
      "source": [
        "#### Chart - 11"
      ],
      "metadata": {
        "id": "x-EpHcCOp1ci"
      }
    },
    {
      "cell_type": "code",
      "source": [
        "# Chart - 11 visualization code\n",
        "# 11. Duration distribution (Movies only)\n",
        "movies = df[df['type'] == \"Movie\"].copy()\n",
        "movies['duration_minutes'] = movies['duration'].str.replace(\" min\",\"\").astype(float)\n",
        "plt.figure(figsize=(10,6))\n",
        "sns.histplot(movies['duration_minutes'], bins=30, kde=True, color=\"red\")\n",
        "plt.title(\"Distribution of Movie Durations\")\n",
        "plt.xlabel(\"Duration (minutes)\")\n",
        "plt.show()"
      ],
      "metadata": {
        "id": "mAQTIvtqp1cj"
      },
      "execution_count": null,
      "outputs": []
    },
    {
      "cell_type": "markdown",
      "source": [
        "##### 1. Why did you pick the specific chart?"
      ],
      "metadata": {
        "id": "X_VqEhTip1ck"
      }
    },
    {
      "cell_type": "markdown",
      "source": [
        "I used a histogram with KDE (Kernel Density Estimate) because it is ideal for visualizing the distribution of a continuous numeric variable (in this case, movie durations).\n",
        "\n",
        "The histogram allows us to see how frequently different duration ranges occur, while the KDE smooths the distribution to highlight trends and peaks.\n",
        "\n",
        "This chart helps identify patterns or anomalies in movie durations."
      ],
      "metadata": {
        "id": "-vsMzt_np1ck"
      }
    },
    {
      "cell_type": "markdown",
      "source": [
        "##### 2. What is/are the insight(s) found from the chart?"
      ],
      "metadata": {
        "id": "8zGJKyg5p1ck"
      }
    },
    {
      "cell_type": "markdown",
      "source": [
        "Most movies on Netflix have a duration between 80 and 120 minutes, indicating a standard feature-length movie trend.\n",
        "\n",
        "There are fewer movies under 60 minutes or over 180 minutes, showing that very short or very long movies are less common.\n",
        "\n",
        "The distribution is slightly right-skewed, meaning there are some long movies (e.g., epics) but they are rare."
      ],
      "metadata": {
        "id": "ZYdMsrqVp1ck"
      }
    },
    {
      "cell_type": "markdown",
      "source": [
        "##### 3. Will the gained insights help creating a positive business impact?\n",
        "Are there any insights that lead to negative growth? Justify with specific reason."
      ],
      "metadata": {
        "id": "PVzmfK_Ep1ck"
      }
    },
    {
      "cell_type": "markdown",
      "source": [
        "Positive Business Impact:\n",
        "\n",
        "Helps Netflix plan content acquisition by focusing on popular duration ranges preferred by viewers (80–120 mins).\n",
        "\n",
        "Aids in recommendation systems by suggesting movies in the viewer’s preferred duration range.\n",
        "\n",
        "Supports production and marketing strategies, e.g., shorter movies for casual viewers or longer movies for niche audiences.\n",
        "\n",
        "Potential Negative Growth:\n",
        "\n",
        "Very long movies (>180 minutes) are rare, which may limit content diversity for audiences who prefer epic or in-depth films.\n",
        "\n",
        "Over-focusing on the most common duration (80–120 mins) could neglect niche audience preferences, slightly impacting engagement in specialized segments."
      ],
      "metadata": {
        "id": "druuKYZpp1ck"
      }
    },
    {
      "cell_type": "markdown",
      "source": [
        "#### Chart - 12"
      ],
      "metadata": {
        "id": "n3dbpmDWp1ck"
      }
    },
    {
      "cell_type": "code",
      "source": [
        "# Chart - 12 visualization code\n",
        "# 12. Number of TV Show seasons distribution\n",
        "tv = df[df['type'] == \"TV Show\"].copy()\n",
        "tv['seasons'] = tv['duration'].str.replace(\" Season\",\"\").str.replace(\"s\",\"\").astype(float)\n",
        "plt.figure(figsize=(10,6))\n",
        "sns.histplot(tv['seasons'], bins=15, kde=False, color=\"purple\")\n",
        "plt.title(\"Distribution of TV Show Seasons\")\n",
        "plt.xlabel(\"Seasons\")\n",
        "plt.show()"
      ],
      "metadata": {
        "id": "bwevp1tKp1ck"
      },
      "execution_count": null,
      "outputs": []
    },
    {
      "cell_type": "markdown",
      "source": [
        "##### 1. Why did you pick the specific chart?"
      ],
      "metadata": {
        "id": "ylSl6qgtp1ck"
      }
    },
    {
      "cell_type": "markdown",
      "source": [
        "I chose a histogram because it effectively shows the distribution of a numerical variable—in this case, the number of seasons per TV show. Histograms make it easy to see how TV shows are spread across different season counts and identify patterns such as most common season lengths. The bins allow grouping similar season counts to spot clusters or outliers."
      ],
      "metadata": {
        "id": "m2xqNkiQp1ck"
      }
    },
    {
      "cell_type": "markdown",
      "source": [
        "##### 2. What is/are the insight(s) found from the chart?"
      ],
      "metadata": {
        "id": "ZWILFDl5p1ck"
      }
    },
    {
      "cell_type": "markdown",
      "source": [
        "Most TV shows on the platform have 1 or 2 seasons, indicating a prevalence of shorter series.\n",
        "\n",
        "There are fewer shows with more than 5 seasons, showing that long-running series are less common.\n",
        "\n",
        "A few outliers exist with 10+ seasons, likely popular or classic shows that are still active."
      ],
      "metadata": {
        "id": "x-lUsV2mp1ck"
      }
    },
    {
      "cell_type": "markdown",
      "source": [
        "##### 3. Will the gained insights help creating a positive business impact?\n",
        "Are there any insights that lead to negative growth? Justify with specific reason."
      ],
      "metadata": {
        "id": "M7G43BXep1ck"
      }
    },
    {
      "cell_type": "markdown",
      "source": [
        "Positive business impact: Knowing that most shows have fewer seasons can guide content acquisition and production strategy. Netflix could focus on short, binge-able series that attract new users or maintain engagement without requiring long-term commitment.\n",
        "\n",
        "Potential negative growth insight: The low number of long-running series might mean a lack of franchise continuity, which could reduce retention for viewers who enjoy multi-season storylines. To counter this, investing in high-quality long-running shows could help retain subscribers over a longer period."
      ],
      "metadata": {
        "id": "5wwDJXsLp1cl"
      }
    },
    {
      "cell_type": "markdown",
      "source": [
        "#### Chart - 13"
      ],
      "metadata": {
        "id": "Ag9LCva-p1cl"
      }
    },
    {
      "cell_type": "code",
      "source": [
        "# Chart - 13 visualization code\n",
        "actor_split = df['cast'].dropna().str.split(\", \")\n",
        "actors = pd.Series([a for sublist in actor_split for a in sublist])\n",
        "top_actors = actors.value_counts().head(10)\n",
        "\n",
        "plt.figure(figsize=(10,6))\n",
        "sns.barplot(\n",
        "    x=top_actors.values,\n",
        "    y=top_actors.index,\n",
        "    hue=top_actors.index,\n",
        "    palette=\"magma\",\n",
        "    legend=False\n",
        ")\n",
        "plt.title(\"Top 10 Actors on Netflix\")\n",
        "plt.show()\n"
      ],
      "metadata": {
        "id": "EUfxeq9-p1cl"
      },
      "execution_count": null,
      "outputs": []
    },
    {
      "cell_type": "markdown",
      "source": [
        "##### 1. Why did you pick the specific chart?"
      ],
      "metadata": {
        "id": "E6MkPsBcp1cl"
      }
    },
    {
      "cell_type": "markdown",
      "source": [
        "I chose a horizontal bar chart because it clearly displays categorical data ranked by frequency. In this case, it shows which actors appear most frequently on Netflix. Horizontal bars make actor names easy to read, especially when the names are long, and the length of the bar conveys their relative prominence on the platform."
      ],
      "metadata": {
        "id": "V22bRsFWp1cl"
      }
    },
    {
      "cell_type": "markdown",
      "source": [
        "##### 2. What is/are the insight(s) found from the chart?"
      ],
      "metadata": {
        "id": "2cELzS2fp1cl"
      }
    },
    {
      "cell_type": "markdown",
      "source": [
        "A small group of actors appears more frequently across Netflix content.\n",
        "\n",
        "These actors could be popular or versatile, appearing in multiple movies or TV shows.\n",
        "\n",
        "Some actors dominate certain genres, which may influence viewer preferences and subscriptions."
      ],
      "metadata": {
        "id": "ozQPc2_Ip1cl"
      }
    },
    {
      "cell_type": "markdown",
      "source": [
        "##### 3. Will the gained insights help creating a positive business impact?\n",
        "Are there any insights that lead to negative growth? Justify with specific reason."
      ],
      "metadata": {
        "id": "3MPXvC8up1cl"
      }
    },
    {
      "cell_type": "markdown",
      "source": [
        "Positive business impact: Netflix can leverage this data to promote shows starring popular actors, increasing engagement and attracting new subscribers. They can also strategically cast these actors in upcoming projects to boost viewership.\n",
        "\n",
        "Potential negative growth insight: Over-reliance on the same actors may lead to content monotony, which could reduce appeal for users seeking fresh faces or variety. Netflix may need to balance star power with diverse casting to sustain long-term growth."
      ],
      "metadata": {
        "id": "GL8l1tdLp1cl"
      }
    },
    {
      "cell_type": "markdown",
      "source": [
        "#### Chart - 14 - Correlation Heatmap"
      ],
      "metadata": {
        "id": "NC_X3p0fY2L0"
      }
    },
    {
      "cell_type": "code",
      "source": [
        "# Correlation Heatmap visualization code\n",
        "# 14. Correlation heatmap (Numerical features only)\n",
        "df_corr = movies[['duration_minutes']].dropna()\n",
        "\n",
        "# If only one column, create a dummy correlation matrix to avoid NaN warning\n",
        "if df_corr.shape[1] == 1:\n",
        "    corr_matrix = pd.DataFrame([[1.0]],\n",
        "                               index=df_corr.columns,\n",
        "                               columns=df_corr.columns)\n",
        "else:\n",
        "    corr_matrix = df_corr.corr()\n",
        "\n",
        "plt.figure(figsize=(6,4))\n",
        "sns.heatmap(corr_matrix, annot=True, cmap=\"coolwarm\", vmin=-1, vmax=1)\n",
        "plt.title(\"Correlation Heatmap (Numerical Features)\")\n",
        "plt.show()\n"
      ],
      "metadata": {
        "id": "xyC9zolEZNRQ"
      },
      "execution_count": null,
      "outputs": []
    },
    {
      "cell_type": "markdown",
      "source": [
        "##### 1. Why did you pick the specific chart?"
      ],
      "metadata": {
        "id": "UV0SzAkaZNRQ"
      }
    },
    {
      "cell_type": "markdown",
      "source": [
        "I chose a heatmap because it visually represents the correlation between numerical variables. Correlation helps identify relationships (positive, negative, or none) between features, which is important for understanding patterns, dependencies, or potential multicollinearity in data. The color intensity quickly conveys the strength and direction of correlations."
      ],
      "metadata": {
        "id": "DVPuT8LYZNRQ"
      }
    },
    {
      "cell_type": "markdown",
      "source": [
        "##### 2. What is/are the insight(s) found from the chart?"
      ],
      "metadata": {
        "id": "YPEH6qLeZNRQ"
      }
    },
    {
      "cell_type": "markdown",
      "source": [
        "Since the dataset currently has only one numerical column (duration_minutes), the heatmap shows a single correlation of 1.0 with itself, indicating a perfect correlation (self-correlation).\n",
        "\n",
        "If more numerical features were present, the heatmap would reveal how movie duration relates to other numeric features like ratings, release year, etc."
      ],
      "metadata": {
        "id": "bfSqtnDqZNRR"
      }
    },
    {
      "cell_type": "markdown",
      "source": [
        "#### Chart - 15 - Pair Plot"
      ],
      "metadata": {
        "id": "q29F0dvdveiT"
      }
    },
    {
      "cell_type": "code",
      "source": [
        "# Pair Plot visualization code\n",
        "# Select only numerical columns for pairplot\n",
        "numeric_df = df.select_dtypes(include=['number']).dropna()\n",
        "\n",
        "# Check if at least 2 numeric columns exist\n",
        "if numeric_df.shape[1] >= 2:\n",
        "    sns.set(style=\"ticks\")\n",
        "    plt.figure(figsize=(10, 8))\n",
        "\n",
        "    # Create pair plot\n",
        "    pairplot = sns.pairplot(numeric_df, diag_kind=\"kde\", corner=True)\n",
        "    pairplot.fig.suptitle(\"Pair Plot of Numerical Features\", y=1.02)\n",
        "    plt.show()\n",
        "else:\n",
        "    print(\"Not enough numerical columns for pair plot.\")\n"
      ],
      "metadata": {
        "id": "o58-TEIhveiU"
      },
      "execution_count": null,
      "outputs": []
    },
    {
      "cell_type": "markdown",
      "source": [
        "##### 1. Why did you pick the specific chart?"
      ],
      "metadata": {
        "id": "EXh0U9oCveiU"
      }
    },
    {
      "cell_type": "markdown",
      "source": [
        "I chose a pair plot because it allows visualizing pairwise relationships between multiple numerical features simultaneously. Scatter plots show correlations between two variables, while the diagonal KDE plots display the distribution of each feature. It’s an excellent way to detect trends, clusters, outliers, or potential correlations in one comprehensive view."
      ],
      "metadata": {
        "id": "eMmPjTByveiU"
      }
    },
    {
      "cell_type": "markdown",
      "source": [
        "##### 2. What is/are the insight(s) found from the chart?"
      ],
      "metadata": {
        "id": "22aHeOlLveiV"
      }
    },
    {
      "cell_type": "markdown",
      "source": [
        "Patterns or clusters between numerical features become visible (e.g., duration vs. rating).\n",
        "\n",
        "Outliers can be easily spotted in scatter plots.\n",
        "\n",
        "The KDE plots on the diagonal show the distribution shape (skewed, normal, or uniform) of each numerical variable.\n",
        "\n",
        "If features are correlated, their scatter plots will show linear or curved relationships."
      ],
      "metadata": {
        "id": "uPQ8RGwHveiV"
      }
    },
    {
      "cell_type": "markdown",
      "source": [
        "## **5. Solution to Business Objective**"
      ],
      "metadata": {
        "id": "JcMwzZxoAimU"
      }
    },
    {
      "cell_type": "markdown",
      "source": [
        "#### What do you suggest the client to achieve Business Objective ?\n",
        "Explain Briefly."
      ],
      "metadata": {
        "id": "8G2x9gOozGDZ"
      }
    },
    {
      "cell_type": "markdown",
      "source": [
        "Based on the detailed Exploratory Data Analysis of the Netflix dataset, the following suggestions can help the client (Netflix) achieve its business objectives of sustained growth, audience retention, and global expansion:\n",
        "\n",
        "Expand Regional & Localized Content\n",
        "\n",
        "The data shows strong growth in Indian and international content alongside US productions.\n",
        "Netflix should continue investing in regional originals (e.g., Hindi, Korean, Spanish) to strengthen its presence in emerging markets.\n",
        "This will help capture new subscribers and increase engagement in non-English-speaking regions.\n",
        "Diversify Content Duration and Format\n",
        "\n",
        "Most movies are between 80–120 minutes, and most TV Shows have 1–2 seasons.\n",
        "Netflix can experiment with short-form content (mini-movies, webisodes) and long-running series to attract diverse audiences.\n",
        "Longer shows build emotional connection and retention, while shorter ones appeal to casual viewers.\n",
        "Balance Audience Ratings\n",
        "\n",
        "The dominance of TV-MA and TV-14 ratings indicates heavy focus on adult audiences.\n",
        "Introducing more PG, TV-Y, and family-friendly content could expand Netflix’s market to children and family users, creating more household-level subscriptions.\n",
        "Sustain Consistent Monthly Additions\n",
        "\n",
        "Month-wise analysis shows even content additions throughout the year, which keeps user engagement stable.\n",
        "Netflix should maintain this steady release strategy, ensuring subscribers always have new content to watch.\n",
        "Leverage Data-Driven Content Strategy\n",
        "\n",
        "Correlation and pair plot insights show weak relationships among features, indicating content diversity.\n",
        "Netflix should continue using viewer analytics (watch time, completion rate, region preference) to optimize recommendations and production investment.\n",
        "Encourage New Creative Talent\n",
        "The “Top Directors” analysis revealed recurring collaborations with a few creators.\n",
        "Netflix can encourage new directors and diverse storytellers to bring fresh ideas and increase creative variety."
      ],
      "metadata": {
        "id": "pASKb0qOza21"
      }
    },
    {
      "cell_type": "markdown",
      "source": [
        "# **Conclusion**"
      ],
      "metadata": {
        "id": "gCX9965dhzqZ"
      }
    },
    {
      "cell_type": "markdown",
      "source": [
        "Through this Exploratory Data Analysis (EDA) on Netflix’s dataset, several valuable insights have been discovered that reveal the platform’s evolving content strategy and global market direction.\n",
        "\n",
        "Content Composition: Netflix’s library is dominated by Movies, but TV Shows have grown rapidly in recent years, showing a strategic balance between short-form and long-form storytelling.\n",
        "Release and Addition Trends: Most titles were released and added to Netflix after 2015, indicating the platform’s focus on fresh, modern, and trending content.\n",
        "Regional Strategy: The United States remains Netflix’s largest content contributor, while India and other international regions show strong growth — reflecting Netflix’s efforts toward global localization.\n",
        "Audience Ratings: The majority of titles fall under TV-MA and TV-14, emphasizing mature and teen audiences. However, there is an opportunity to expand family and children’s content for household engagement.\n",
        "Duration and Seasons: Most movies are between 80–120 minutes, and most TV Shows have 1–2 seasons, aligning with the binge-watch culture but suggesting room for diversification.\n",
        "Genres: Popular genres include International Movies, Dramas, Comedies, and Documentaries, highlighting Netflix’s diverse yet globally appealing catalog.\n",
        "Correlation Analysis: Numerical features such as release year, duration, and seasons show weak correlations, indicating that Netflix maintains a balanced and varied content mix without bias toward specific content patterns.\n",
        "In summary, Netflix has successfully built a diverse and globally appealing content library, continuously adapting to audience preferences and market demands.\n",
        "To further strengthen its position, Netflix should:\n",
        "\n",
        "Continue expanding regional productions (especially in India and other emerging markets).\n",
        "Introduce more family-oriented content to reach all age groups.\n",
        "Balance between shorter and longer content formats to maintain engagement and loyalty.\n",
        "Leverage data analytics to drive smarter recommendations and production decisions.\n",
        "Netflix’s data-driven and globally inclusive approach positions it well for sustained growth, market expansion, and long-term subscriber retention."
      ],
      "metadata": {
        "id": "Fjb1IsQkh3yE"
      }
    },
    {
      "cell_type": "markdown",
      "source": [
        "### ***Hurrah! You have successfully completed your EDA Capstone Project !!!***"
      ],
      "metadata": {
        "id": "gIfDvo9L0UH2"
      }
    }
  ]
}